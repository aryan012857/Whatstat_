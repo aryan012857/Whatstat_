{
  "nbformat": 4,
  "nbformat_minor": 0,
  "metadata": {
    "colab": {
      "provenance": [],
      "authorship_tag": "ABX9TyOeYfmrp7v5ViFRMEfgNLu1",
      "include_colab_link": true
    },
    "kernelspec": {
      "name": "python3",
      "display_name": "Python 3"
    },
    "language_info": {
      "name": "python"
    }
  },
  "cells": [
    {
      "cell_type": "markdown",
      "metadata": {
        "id": "view-in-github",
        "colab_type": "text"
      },
      "source": [
        "<a href=\"https://colab.research.google.com/github/Luckynirwan12/WhatsApp-Chat-Analyzer/blob/main/WhatsApp_Chat_Analysis.ipynb\" target=\"_parent\"><img src=\"https://colab.research.google.com/assets/colab-badge.svg\" alt=\"Open In Colab\"/></a>"
      ]
    },
    {
      "cell_type": "markdown",
      "source": [
        "## WhatsApp Chat Analyzer"
      ],
      "metadata": {
        "id": "IfAuDwtPoWwJ"
      }
    },
    {
      "cell_type": "markdown",
      "source": [
        "### Import Depencencies"
      ],
      "metadata": {
        "id": "qw184UQrmtpJ"
      }
    },
    {
      "cell_type": "code",
      "execution_count": null,
      "metadata": {
        "id": "9p8Xf0K9ylJi"
      },
      "outputs": [],
      "source": [
        "import re  # for regular expression\n",
        "import pandas as pd"
      ]
    },
    {
      "cell_type": "code",
      "source": [
        "f = open('Upload your WhatsApp .txt', 'r', encoding = 'utf-8')"
      ],
      "metadata": {
        "id": "f3KPWWaR0y2h"
      },
      "execution_count": null,
      "outputs": []
    },
    {
      "cell_type": "code",
      "source": [
        "# Read file in the form of string and store it in data\n",
        "data = f.read()"
      ],
      "metadata": {
        "id": "ZiPGa3wC1E8Z"
      },
      "execution_count": null,
      "outputs": []
    },
    {
      "cell_type": "code",
      "source": [
        "# Print data\n",
        "print(data)"
      ],
      "metadata": {
        "id": "uIziLvr61IbG"
      },
      "execution_count": null,
      "outputs": []
    },
    {
      "cell_type": "markdown",
      "source": [
        "### Convert File into DataFrame"
      ],
      "metadata": {
        "id": "dGPnDlZqm8SX"
      }
    },
    {
      "cell_type": "code",
      "source": [
        "# Regex pattern to split by date-time stamps (e.g., 12/03/25, 1:14 pm - )\n",
        "pattern = r'\\d{1,2}/\\d{1,2}/\\d{2},\\s\\d{1,2}:\\d{2}[   ]?[ap]m\\s-\\s'"
      ],
      "metadata": {
        "id": "WwAMK3NJ1L6k"
      },
      "execution_count": null,
      "outputs": []
    },
    {
      "cell_type": "code",
      "source": [
        "# Print all the messages\n",
        "messages = re.split(pattern, data)[1:]\n",
        "messages"
      ],
      "metadata": {
        "id": "it7ghSmr1Q-n"
      },
      "execution_count": null,
      "outputs": []
    },
    {
      "cell_type": "code",
      "source": [
        "# Print all the dates\n",
        "dates = re.findall(pattern, data)\n",
        "dates"
      ],
      "metadata": {
        "id": "BbB2QNYZ1e-H"
      },
      "execution_count": null,
      "outputs": []
    },
    {
      "cell_type": "code",
      "source": [
        "df = pd.DataFrame({'user_message': messages, 'message_date': dates})\n",
        "# convert message_date type\n",
        "df['message_date'] = pd.to_datetime(df['message_date'], format='%d/%m/%y, %I:%M %p - ')\n",
        "df.rename(columns={'message_date': 'date'}, inplace=True)\n",
        "df.head()"
      ],
      "metadata": {
        "id": "FXvpQZdX1pFk"
      },
      "execution_count": null,
      "outputs": []
    },
    {
      "cell_type": "code",
      "source": [
        "# Get shape\n",
        "df.shape"
      ],
      "metadata": {
        "id": "63jK71KGEUFq"
      },
      "execution_count": null,
      "outputs": []
    },
    {
      "cell_type": "code",
      "source": [
        "# Separate users and messages\n",
        "users = []\n",
        "messages = []\n",
        "for message in df['user_message']:\n",
        "    entry = re.split('([\\w\\W]+?):\\s', message)\n",
        "    if entry[1:]: # user name\n",
        "        users.append(entry[1])\n",
        "        messages.append(entry[2])\n",
        "    else:\n",
        "        users.append('group_notification')\n",
        "        messages.append(entry[0])\n",
        "df['user'] = users\n",
        "df['message'] = messages\n",
        "df.drop(columns=['user_message'], inplace=True)\n",
        "df.head()"
      ],
      "metadata": {
        "id": "FgxiwRHiEnJ8"
      },
      "execution_count": null,
      "outputs": []
    },
    {
      "cell_type": "markdown",
      "source": [
        "### Generate New Columns"
      ],
      "metadata": {
        "id": "t_UkCiranH0m"
      }
    },
    {
      "cell_type": "code",
      "source": [
        "# Extract year from the date\n",
        "df['year'] = df['date'].dt.year\n",
        "df.head()"
      ],
      "metadata": {
        "id": "7M64PGVtHrYC"
      },
      "execution_count": null,
      "outputs": []
    },
    {
      "cell_type": "code",
      "source": [
        "# Extract month name from date\n",
        "df['month'] = df['date'].dt.month_name()\n",
        "df.head()"
      ],
      "metadata": {
        "id": "gAhSkwZdIQHR"
      },
      "execution_count": null,
      "outputs": []
    },
    {
      "cell_type": "code",
      "source": [
        "# Extract day\n",
        "df['day'] = df['date'].dt.day\n",
        "df.head()"
      ],
      "metadata": {
        "id": "GxIfhPXPIgBr"
      },
      "execution_count": null,
      "outputs": []
    },
    {
      "cell_type": "code",
      "source": [
        "# Extract hours\n",
        "df['hour'] = df['date'].dt.hour\n",
        "df.head()"
      ],
      "metadata": {
        "id": "fnmNRldXIpQu"
      },
      "execution_count": null,
      "outputs": []
    },
    {
      "cell_type": "code",
      "source": [
        "# Extract minutes\n",
        "df['minute'] = df['date'].dt.minute\n",
        "df.head()"
      ],
      "metadata": {
        "id": "68j5sxNPIuHD"
      },
      "execution_count": null,
      "outputs": []
    },
    {
      "cell_type": "markdown",
      "source": [
        "### Chat Statistics"
      ],
      "metadata": {
        "id": "ggZiErk6nTY-"
      }
    },
    {
      "cell_type": "code",
      "source": [
        "# Count number of words\n",
        "words = []\n",
        "for message in df['message']:\n",
        "    words.extend(message.split())"
      ],
      "metadata": {
        "id": "Yn_tR1thlAeW"
      },
      "execution_count": null,
      "outputs": []
    },
    {
      "cell_type": "code",
      "source": [
        "len(words)"
      ],
      "metadata": {
        "id": "G-7PMJYwlyNV"
      },
      "execution_count": null,
      "outputs": []
    },
    {
      "cell_type": "code",
      "source": [
        "!pip install urlextract"
      ],
      "metadata": {
        "id": "rIKU69bW5kaV"
      },
      "execution_count": null,
      "outputs": []
    },
    {
      "cell_type": "code",
      "source": [
        "# Count the number of links\n",
        "from urlextract import URLExtract\n",
        "extractor = URLExtract()\n",
        "urls = []\n",
        "for message in df['message']:\n",
        "    urls.extend(extractor.find_urls(message))"
      ],
      "metadata": {
        "id": "pb_jkdO-5CGH"
      },
      "execution_count": null,
      "outputs": []
    },
    {
      "cell_type": "code",
      "source": [
        "len(urls)"
      ],
      "metadata": {
        "id": "_esmMtmT5cBG"
      },
      "execution_count": null,
      "outputs": []
    },
    {
      "cell_type": "markdown",
      "source": [
        "### Active User Analysis"
      ],
      "metadata": {
        "id": "6cqRZYxjnjtw"
      }
    },
    {
      "cell_type": "code",
      "source": [
        "# Get most active users\n",
        "x = df[df['user'] != 'group_notification']['user'].value_counts()\n",
        "active_users = x.head()"
      ],
      "metadata": {
        "id": "noWbBuI89fWT"
      },
      "execution_count": null,
      "outputs": []
    },
    {
      "cell_type": "code",
      "source": [
        "# plot the graph of 5 Active users\n",
        "import matplotlib.pyplot as plt"
      ],
      "metadata": {
        "id": "2v_60s2CVPWQ"
      },
      "execution_count": null,
      "outputs": []
    },
    {
      "cell_type": "code",
      "source": [
        "plt.bar(active_users.index, active_users.values)\n",
        "plt.xticks(rotation = 'vertical')\n",
        "plt.show()"
      ],
      "metadata": {
        "id": "BU9FG2w-VdtG"
      },
      "execution_count": null,
      "outputs": []
    },
    {
      "cell_type": "code",
      "source": [
        "# Find the percentage\n",
        "new_df = round((df[df['user'] != 'group_notification']['user'].value_counts()/df.shape[0])*100, 2).reset_index().rename(columns = { 'count': 'percentage'})\n",
        "new_df.head()"
      ],
      "metadata": {
        "id": "IWp_NJq8alpq"
      },
      "execution_count": null,
      "outputs": []
    },
    {
      "cell_type": "markdown",
      "source": [
        "### Word Analysis"
      ],
      "metadata": {
        "id": "sQRB4zNvn0yd"
      }
    },
    {
      "cell_type": "code",
      "source": [
        "# Find how many particular worlds are used in group chat\n",
        "words = []\n",
        "for message in df['message']:\n",
        "    words.extend(message.split())"
      ],
      "metadata": {
        "id": "W7n4ZFAykQ9n"
      },
      "execution_count": null,
      "outputs": []
    },
    {
      "cell_type": "code",
      "source": [
        "from collections import Counter\n",
        "most_common_words = pd.DataFrame(Counter(words).most_common(20))\n",
        "print(most_common_words)"
      ],
      "metadata": {
        "id": "jC5rgYp-lUJ8"
      },
      "execution_count": null,
      "outputs": []
    },
    {
      "cell_type": "code",
      "source": [
        "# Now we remove the stop words like ommitted , Media, is, the etc\n",
        "# 1. remove group notification\n",
        "temp = df[df['user'] != 'group_notification']"
      ],
      "metadata": {
        "id": "T7sViGKBmUEu"
      },
      "execution_count": null,
      "outputs": []
    },
    {
      "cell_type": "code",
      "source": [
        "# 2. remove media omitted message\n",
        "temp = temp[temp['message'] != '<Media omitted>\\n']"
      ],
      "metadata": {
        "id": "0Tat8yXum1_A"
      },
      "execution_count": null,
      "outputs": []
    },
    {
      "cell_type": "code",
      "source": [
        "# 3. remove the stop words\n",
        "f = open('/content/stop_hinglish.txt', 'r')\n",
        "stop_words = f.read()\n",
        "print(stop_words)"
      ],
      "metadata": {
        "id": "AUQeu-dRm8pY"
      },
      "execution_count": null,
      "outputs": []
    },
    {
      "cell_type": "code",
      "source": [
        "# remove punctuations\n",
        "import string\n",
        "punct = string.punctuation\n",
        "\n",
        "temp['message'] = temp['message'].apply(lambda x: x.translate(str.maketrans('', '', punct)))"
      ],
      "metadata": {
        "id": "C76SFoLnFaqd"
      },
      "execution_count": null,
      "outputs": []
    },
    {
      "cell_type": "code",
      "source": [
        "words = []\n",
        "for message in temp['message']:\n",
        "  for word in message.lower().split():\n",
        "    if word not in stop_words:\n",
        "      words.append(word)"
      ],
      "metadata": {
        "id": "FiUmYX5R9T-Y"
      },
      "execution_count": null,
      "outputs": []
    },
    {
      "cell_type": "code",
      "source": [
        "from collections import Counter\n",
        "most_common_words = pd.DataFrame(Counter(words).most_common(20))\n",
        "print(most_common_words)"
      ],
      "metadata": {
        "id": "aRvgdi8E90cz"
      },
      "execution_count": null,
      "outputs": []
    },
    {
      "cell_type": "markdown",
      "source": [
        "### Emoji Analysis"
      ],
      "metadata": {
        "id": "qayV7-E6n9VU"
      }
    },
    {
      "cell_type": "code",
      "source": [
        "# Analysis for emoji\n",
        "!pip install emoji --upgrade"
      ],
      "metadata": {
        "id": "V0xB6bWKNFF-"
      },
      "execution_count": null,
      "outputs": []
    },
    {
      "cell_type": "code",
      "source": [
        "import emoji"
      ],
      "metadata": {
        "id": "UxKBIjAYOS71"
      },
      "execution_count": null,
      "outputs": []
    },
    {
      "cell_type": "code",
      "source": [
        "emojis = []\n",
        "for messages in df['message']:\n",
        "  emojis.extend([c for c in messages if c in emoji.EMOJI_DATA])"
      ],
      "metadata": {
        "id": "BDfk9kkwXdaJ"
      },
      "execution_count": null,
      "outputs": []
    },
    {
      "cell_type": "code",
      "source": [
        "pd.DataFrame(Counter(emojis).most_common(len(Counter(emojis))))"
      ],
      "metadata": {
        "id": "OM6j7tEgPaTF"
      },
      "execution_count": null,
      "outputs": []
    },
    {
      "cell_type": "markdown",
      "source": [
        "## Timeline Analysis"
      ],
      "metadata": {
        "id": "XJI1BXaToD2f"
      }
    },
    {
      "cell_type": "code",
      "source": [
        "# Monthly time analysis\n",
        "# 1. Extract month number from the date\n",
        "df['month_num'] = df['date'].dt.month"
      ],
      "metadata": {
        "id": "usQspw2Uucff"
      },
      "execution_count": null,
      "outputs": []
    },
    {
      "cell_type": "code",
      "source": [
        "timeline = df.groupby(['year', 'month_num', 'month']).count()['message'].reset_index()"
      ],
      "metadata": {
        "id": "24lbHYQvfeoh"
      },
      "execution_count": null,
      "outputs": []
    },
    {
      "cell_type": "code",
      "source": [
        "# now we merge the year and the month\n",
        "time = []\n",
        "for i in range(timeline.shape[0]):\n",
        "  time.append(timeline['month'][i] + '-' + str(timeline['year'][i]))"
      ],
      "metadata": {
        "id": "TkUFy88bf3rj"
      },
      "execution_count": null,
      "outputs": []
    },
    {
      "cell_type": "code",
      "source": [
        "timeline['time'] = time"
      ],
      "metadata": {
        "id": "0iY1WTxHgoMT"
      },
      "execution_count": null,
      "outputs": []
    },
    {
      "cell_type": "code",
      "source": [
        "timeline"
      ],
      "metadata": {
        "id": "FtAa9Mj-g4x-"
      },
      "execution_count": null,
      "outputs": []
    },
    {
      "cell_type": "code",
      "source": [
        "# now we plot graph\n",
        "plt.plot(timeline['time'], timeline['message'])\n",
        "plt.xticks(rotation = 'vertical')\n",
        "plt.show()"
      ],
      "metadata": {
        "id": "TRAmMRGAhmIk"
      },
      "execution_count": null,
      "outputs": []
    },
    {
      "cell_type": "code",
      "source": [
        "# Now daily timeline\n",
        "df['dates'] = df['date'].dt.date"
      ],
      "metadata": {
        "id": "KK-hgr6FnN0K"
      },
      "execution_count": null,
      "outputs": []
    },
    {
      "cell_type": "code",
      "source": [
        "daily_timeline = df.groupby(['dates']).count()['message'].reset_index()"
      ],
      "metadata": {
        "id": "K-C8Er4dvrVH"
      },
      "execution_count": null,
      "outputs": []
    },
    {
      "cell_type": "code",
      "source": [
        "# Plot graph\n",
        "plt.plot(daily_timeline['dates'], daily_timeline['message'])\n",
        "plt.xticks(rotation = 'vertical')\n",
        "plt.show()"
      ],
      "metadata": {
        "id": "G2In2biavxAM"
      },
      "execution_count": null,
      "outputs": []
    },
    {
      "cell_type": "markdown",
      "source": [
        "### Activity Map"
      ],
      "metadata": {
        "id": "_D31G4cRoMdm"
      }
    },
    {
      "cell_type": "code",
      "source": [
        "# Active days\n",
        "# Extract day name from the date\n",
        "df['day_name'] = df['date'].dt.day_name()\n",
        "df.head()"
      ],
      "metadata": {
        "id": "EWiTfJjOzK4K"
      },
      "execution_count": null,
      "outputs": []
    },
    {
      "cell_type": "code",
      "source": [
        "# Count the values\n",
        "df['day_name'].value_counts()"
      ],
      "metadata": {
        "id": "RxGdb_E_0CnN"
      },
      "execution_count": null,
      "outputs": []
    },
    {
      "cell_type": "code",
      "source": [
        "# plot bar graph\n",
        "plt.bar(df['day_name'].value_counts().index, df['day_name'].value_counts().values)\n",
        "plt.xticks(rotation = 'vertical')\n",
        "plt.show()"
      ],
      "metadata": {
        "id": "r1YY-I900PYk"
      },
      "execution_count": null,
      "outputs": []
    }
  ]
}